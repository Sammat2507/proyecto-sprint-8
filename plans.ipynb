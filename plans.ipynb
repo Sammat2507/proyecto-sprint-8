{
 "cells": [
  {
   "cell_type": "markdown",
   "metadata": {},
   "source": [
    "- Github:https://github.com/Sammat2507/proyecto-sprint-8"
   ]
  },
  {
   "cell_type": "code",
   "execution_count": 33,
   "metadata": {},
   "outputs": [],
   "source": [
    "import pandas as pd\n",
    "from sklearn.linear_model import LogisticRegression\n",
    "from sklearn.model_selection import train_test_split\n",
    "from sklearn.tree import DecisionTreeClassifier\n",
    "from sklearn.ensemble import RandomForestClassifier\n",
    "from sklearn.metrics import accuracy_score"
   ]
  },
  {
   "cell_type": "code",
   "execution_count": 34,
   "metadata": {},
   "outputs": [],
   "source": [
    "users_behavior = pd.read_csv('users_behavior.csv')"
   ]
  },
  {
   "cell_type": "code",
   "execution_count": 35,
   "metadata": {},
   "outputs": [],
   "source": [
    "df_train_valid, df_test = train_test_split(users_behavior, test_size=0.20, random_state=12345)\n",
    "\n",
    "df_train, df_valid = train_test_split(df_train_valid, test_size=0.25, random_state=12345)"
   ]
  },
  {
   "cell_type": "code",
   "execution_count": 36,
   "metadata": {},
   "outputs": [],
   "source": [
    "train_features = df_train.drop(['is_ultra'], axis=1)\n",
    "train_target = df_train['is_ultra']\n",
    "features_valid = df_valid.drop(['is_ultra'], axis=1)\n",
    "target_valid = df_valid['is_ultra']\n",
    "features_test = df_test.drop(['is_ultra'], axis=1)\n",
    "target_test = df_test['is_ultra']"
   ]
  },
  {
   "cell_type": "code",
   "execution_count": 37,
   "metadata": {},
   "outputs": [
    {
     "name": "stdout",
     "output_type": "stream",
     "text": [
      "La exactitud del mejor modelo en el conjunto de validación (n_estimators = 10): 0.7853810264385692\n"
     ]
    }
   ],
   "source": [
    "best_score = 0\n",
    "best_est = 0\n",
    "for est in range(1,11):\n",
    "    model_random_forest = RandomForestClassifier(random_state=54321, n_estimators=est) \n",
    "    model_random_forest.fit(train_features, train_target)\n",
    "    score = model_random_forest.score(features_valid, target_valid) \n",
    "    if score > best_score:\n",
    "        best_score = score\n",
    "        best_est = est\n",
    "\n",
    "print(\"La exactitud del mejor modelo en el conjunto de validación (n_estimators = {}): {}\".format(best_est, best_score))"
   ]
  },
  {
   "cell_type": "code",
   "execution_count": 38,
   "metadata": {},
   "outputs": [
    {
     "name": "stdout",
     "output_type": "stream",
     "text": [
      "0.700207468879668\n"
     ]
    }
   ],
   "source": [
    "model_logic = LogisticRegression(solver='liblinear', random_state=54321)\n",
    "model_logic.fit(train_features, train_target)\n",
    "score_train = model_logic.score(train_features, train_target)\n",
    "print(score_train)"
   ]
  },
  {
   "cell_type": "code",
   "execution_count": 39,
   "metadata": {},
   "outputs": [
    {
     "name": "stdout",
     "output_type": "stream",
     "text": [
      "Exactitud de max_depth igual a 1\n",
      "Conjunto de entrenamiento: 0.758298755186722\n",
      "Conjunto de prueba: 0.7480559875583204\n",
      "\n",
      "Exactitud de max_depth igual a 2\n",
      "Conjunto de entrenamiento: 0.79201244813278\n",
      "Conjunto de prueba: 0.7838258164852255\n",
      "\n",
      "Exactitud de max_depth igual a 3\n",
      "Conjunto de entrenamiento: 0.8117219917012448\n",
      "Conjunto de prueba: 0.7869362363919129\n",
      "\n",
      "Exactitud de max_depth igual a 4\n",
      "Conjunto de entrenamiento: 0.8205394190871369\n",
      "Conjunto de prueba: 0.7869362363919129\n",
      "\n",
      "Exactitud de max_depth igual a 5\n",
      "Conjunto de entrenamiento: 0.8278008298755186\n",
      "Conjunto de prueba: 0.7900466562986003\n",
      "\n",
      "Exactitud de max_depth igual a 6\n",
      "Conjunto de entrenamiento: 0.8335062240663901\n",
      "Conjunto de prueba: 0.7838258164852255\n",
      "\n",
      "Exactitud de max_depth igual a 7\n",
      "Conjunto de entrenamiento: 0.8506224066390041\n",
      "Conjunto de prueba: 0.7900466562986003\n",
      "\n",
      "Exactitud de max_depth igual a 8\n",
      "Conjunto de entrenamiento: 0.8661825726141079\n",
      "Conjunto de prueba: 0.7791601866251944\n",
      "\n",
      "Exactitud de max_depth igual a 9\n",
      "Conjunto de entrenamiento: 0.875\n",
      "Conjunto de prueba: 0.7791601866251944\n",
      "\n",
      "Exactitud de max_depth igual a 10\n",
      "Conjunto de entrenamiento: 0.8910788381742739\n",
      "Conjunto de prueba: 0.7713841368584758\n",
      "\n"
     ]
    }
   ],
   "source": [
    "for depth in range(1, 11):\n",
    "    model_tree = DecisionTreeClassifier(random_state=54321, max_depth=depth)\n",
    "    model_tree.fit(train_features, train_target)\n",
    "    train_predictions = model_tree.predict(train_features)\n",
    "    test_predictions = model_tree.predict(features_test)\n",
    "    print(\"Exactitud de max_depth igual a\", depth)\n",
    "    print(\"Conjunto de entrenamiento:\", accuracy_score(train_target, train_predictions))\n",
    "    print(\"Conjunto de prueba:\", accuracy_score(target_test, test_predictions))\n",
    "    print()"
   ]
  },
  {
   "cell_type": "code",
   "execution_count": 40,
   "metadata": {},
   "outputs": [
    {
     "name": "stdout",
     "output_type": "stream",
     "text": [
      "0.6967340590979783\n"
     ]
    }
   ],
   "source": [
    "score_test = model_logic.score(features_test, target_test)\n",
    "print(score_test)"
   ]
  }
 ],
 "metadata": {
  "kernelspec": {
   "display_name": "plans_env",
   "language": "python",
   "name": "python3"
  },
  "language_info": {
   "codemirror_mode": {
    "name": "ipython",
    "version": 3
   },
   "file_extension": ".py",
   "mimetype": "text/x-python",
   "name": "python",
   "nbconvert_exporter": "python",
   "pygments_lexer": "ipython3",
   "version": "3.12.3"
  }
 },
 "nbformat": 4,
 "nbformat_minor": 2
}
